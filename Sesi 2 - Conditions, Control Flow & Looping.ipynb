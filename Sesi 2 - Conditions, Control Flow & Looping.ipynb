{
 "cells": [
  {
   "cell_type": "markdown",
   "id": "6e3ab8ed",
   "metadata": {},
   "source": [
    "Conditional"
   ]
  },
  {
   "cell_type": "code",
   "execution_count": 12,
   "id": "3dac9f28",
   "metadata": {},
   "outputs": [],
   "source": [
    "x = 0\n",
    "y =  5"
   ]
  },
  {
   "cell_type": "code",
   "execution_count": 13,
   "id": "b73686ee",
   "metadata": {},
   "outputs": [
    {
     "name": "stdout",
     "output_type": "stream",
     "text": [
      "yes\n",
      "yes\n",
      "yes\n"
     ]
    }
   ],
   "source": [
    "if x < y:\n",
    "    print('yes')\n",
    "if y < x:\n",
    "    print('yes')\n",
    "if x:\n",
    "    print('yes')\n",
    "if y:\n",
    "    print('yes')\n",
    "if 'aul' in 'grault':\n",
    "    print('yes')\n",
    "if 'quux' in ['foo',' bar',' baz']:\n",
    "    print('yes')"
   ]
  },
  {
   "cell_type": "markdown",
   "id": "1ce5b686",
   "metadata": {},
   "source": [
    "Grouping Conditional"
   ]
  },
  {
   "cell_type": "code",
   "execution_count": 14,
   "id": "db4633de",
   "metadata": {},
   "outputs": [
    {
     "name": "stdout",
     "output_type": "stream",
     "text": [
      "After conditional\n"
     ]
    }
   ],
   "source": [
    "if 'foo' in ['bar','baz','qux']:\n",
    "    print('Expression was true')\n",
    "    print('Executing statement in suite')\n",
    "    print('...')\n",
    "    print('Done.')\n",
    "print('After conditional')"
   ]
  },
  {
   "cell_type": "code",
   "execution_count": 18,
   "id": "6eab1722",
   "metadata": {},
   "outputs": [
    {
     "name": "stdout",
     "output_type": "stream",
     "text": [
      "Outer condition is true\n",
      "Beetwen inner conditions\n",
      "Inner condition 2\n",
      "End of outer conditions\n",
      "After outer conditional\n"
     ]
    }
   ],
   "source": [
    "if 'foo' in ['foo','baz','qux']:\n",
    "    print('Outer condition is true')\n",
    "    \n",
    "    if 10 > 20:\n",
    "        print('Inner condition 1')\n",
    "        \n",
    "    print('Beetwen inner conditions')\n",
    "    \n",
    "    if 10 < 20:\n",
    "        print('Inner condition 2')\n",
    "        \n",
    "    print('End of outer conditions')\n",
    "print('After outer conditional')"
   ]
  },
  {
   "cell_type": "markdown",
   "id": "e347ee6b",
   "metadata": {},
   "source": [
    "The Else and elif Clauses"
   ]
  },
  {
   "cell_type": "code",
   "execution_count": 20,
   "id": "72456559",
   "metadata": {},
   "outputs": [
    {
     "name": "stdout",
     "output_type": "stream",
     "text": [
      "(second suite)\n",
      "x is large\n"
     ]
    }
   ],
   "source": [
    "x = 120\n",
    "\n",
    "if x < 50:\n",
    "    print('(first suite)')\n",
    "    print('x is small')\n",
    "else:\n",
    "    print('(second suite)')\n",
    "    print('x is large')"
   ]
  },
  {
   "cell_type": "code",
   "execution_count": 21,
   "id": "dc06f51c",
   "metadata": {},
   "outputs": [
    {
     "name": "stdout",
     "output_type": "stream",
     "text": [
      "uang tidak cukup\n"
     ]
    }
   ],
   "source": [
    "hargaBuku = 20000\n",
    "hargaMajalah = 5000\n",
    "uang = 2000\n",
    "\n",
    "if uang > hargaBuku:\n",
    "    print('beli buku')\n",
    "else:\n",
    "    print('uang tidak cukup')"
   ]
  },
  {
   "cell_type": "code",
   "execution_count": null,
   "id": "f40bd368",
   "metadata": {},
   "outputs": [],
   "source": []
  }
 ],
 "metadata": {
  "kernelspec": {
   "display_name": "Python 3",
   "language": "python",
   "name": "python3"
  },
  "language_info": {
   "codemirror_mode": {
    "name": "ipython",
    "version": 3
   },
   "file_extension": ".py",
   "mimetype": "text/x-python",
   "name": "python",
   "nbconvert_exporter": "python",
   "pygments_lexer": "ipython3",
   "version": "3.7.7"
  }
 },
 "nbformat": 4,
 "nbformat_minor": 5
}
