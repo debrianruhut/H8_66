{
 "cells": [
  {
   "cell_type": "markdown",
   "id": "3fae4505",
   "metadata": {},
   "source": [
    "### ASSIGNMENT PYTHON 1 - DEBRIAN RUHUT SARAGIH\n",
    "### DATASET CONTAINS\n",
    "lsoa_code, borough, major_category, minor_category, value, year, month\n",
    "\n",
    "### QUESTIONS\n",
    "1. Bagaimana statistik kejadian kriminal dari tahun 2008 ke 2016?\n",
    "2. Top 3 kejadian kriminal selama 3 tahun terakhir?\n",
    "3. Perbandingan kejadian kriminal di masing-masing wilayah\n",
    "\n",
    "### CODE REVIEW\n",
    "Area Plot, Histogram, Bar Chart, Pie Chart, Box Plot, Scatter Plot, Word Clouds, Folium Maps, Prepocessing"
   ]
  },
  {
   "cell_type": "markdown",
   "id": "75463aaf",
   "metadata": {},
   "source": [
    "## Importing Package"
   ]
  },
  {
   "cell_type": "code",
   "execution_count": 1,
   "id": "c9ab4380",
   "metadata": {},
   "outputs": [],
   "source": [
    "import numpy as np\n",
    "import pandas as pd\n",
    "import matplotlib as mpl\n",
    "import matplotlib.pyplot as plt"
   ]
  },
  {
   "cell_type": "markdown",
   "id": "01bf96c7",
   "metadata": {},
   "source": [
    "## Loading Dataset"
   ]
  },
  {
   "cell_type": "code",
   "execution_count": 2,
   "id": "fa83f18d",
   "metadata": {},
   "outputs": [
    {
     "data": {
      "text/html": [
       "<div>\n",
       "<style scoped>\n",
       "    .dataframe tbody tr th:only-of-type {\n",
       "        vertical-align: middle;\n",
       "    }\n",
       "\n",
       "    .dataframe tbody tr th {\n",
       "        vertical-align: top;\n",
       "    }\n",
       "\n",
       "    .dataframe thead th {\n",
       "        text-align: right;\n",
       "    }\n",
       "</style>\n",
       "<table border=\"1\" class=\"dataframe\">\n",
       "  <thead>\n",
       "    <tr style=\"text-align: right;\">\n",
       "      <th></th>\n",
       "      <th>lsoa_code</th>\n",
       "      <th>borough</th>\n",
       "      <th>major_category</th>\n",
       "      <th>minor_category</th>\n",
       "      <th>value</th>\n",
       "      <th>year</th>\n",
       "      <th>month</th>\n",
       "    </tr>\n",
       "  </thead>\n",
       "  <tbody>\n",
       "    <tr>\n",
       "      <th>0</th>\n",
       "      <td>E01001116</td>\n",
       "      <td>Croydon</td>\n",
       "      <td>Burglary</td>\n",
       "      <td>Burglary in Other Buildings</td>\n",
       "      <td>0</td>\n",
       "      <td>2016</td>\n",
       "      <td>11</td>\n",
       "    </tr>\n",
       "    <tr>\n",
       "      <th>1</th>\n",
       "      <td>E01001646</td>\n",
       "      <td>Greenwich</td>\n",
       "      <td>Violence Against the Person</td>\n",
       "      <td>Other violence</td>\n",
       "      <td>0</td>\n",
       "      <td>2016</td>\n",
       "      <td>11</td>\n",
       "    </tr>\n",
       "    <tr>\n",
       "      <th>2</th>\n",
       "      <td>E01000677</td>\n",
       "      <td>Bromley</td>\n",
       "      <td>Violence Against the Person</td>\n",
       "      <td>Other violence</td>\n",
       "      <td>0</td>\n",
       "      <td>2015</td>\n",
       "      <td>5</td>\n",
       "    </tr>\n",
       "    <tr>\n",
       "      <th>3</th>\n",
       "      <td>E01003774</td>\n",
       "      <td>Redbridge</td>\n",
       "      <td>Burglary</td>\n",
       "      <td>Burglary in Other Buildings</td>\n",
       "      <td>0</td>\n",
       "      <td>2016</td>\n",
       "      <td>3</td>\n",
       "    </tr>\n",
       "    <tr>\n",
       "      <th>4</th>\n",
       "      <td>E01004563</td>\n",
       "      <td>Wandsworth</td>\n",
       "      <td>Robbery</td>\n",
       "      <td>Personal Property</td>\n",
       "      <td>0</td>\n",
       "      <td>2008</td>\n",
       "      <td>6</td>\n",
       "    </tr>\n",
       "  </tbody>\n",
       "</table>\n",
       "</div>"
      ],
      "text/plain": [
       "   lsoa_code     borough               major_category  \\\n",
       "0  E01001116     Croydon                     Burglary   \n",
       "1  E01001646   Greenwich  Violence Against the Person   \n",
       "2  E01000677     Bromley  Violence Against the Person   \n",
       "3  E01003774   Redbridge                     Burglary   \n",
       "4  E01004563  Wandsworth                      Robbery   \n",
       "\n",
       "                minor_category  value  year  month  \n",
       "0  Burglary in Other Buildings      0  2016     11  \n",
       "1               Other violence      0  2016     11  \n",
       "2               Other violence      0  2015      5  \n",
       "3  Burglary in Other Buildings      0  2016      3  \n",
       "4            Personal Property      0  2008      6  "
      ]
     },
     "execution_count": 2,
     "metadata": {},
     "output_type": "execute_result"
    }
   ],
   "source": [
    "df_crime = pd.read_csv('london_crime_by_lsoa.csv')\n",
    "df_crime.head(5)"
   ]
  },
  {
   "cell_type": "markdown",
   "id": "185a9e8c",
   "metadata": {},
   "source": [
    "## Checking Dataset"
   ]
  },
  {
   "cell_type": "code",
   "execution_count": 3,
   "id": "14accc72",
   "metadata": {},
   "outputs": [
    {
     "data": {
      "text/plain": [
       "lsoa_code         0\n",
       "borough           0\n",
       "major_category    0\n",
       "minor_category    0\n",
       "value             0\n",
       "year              0\n",
       "month             0\n",
       "dtype: int64"
      ]
     },
     "execution_count": 3,
     "metadata": {},
     "output_type": "execute_result"
    }
   ],
   "source": [
    "# isnull()\n",
    "df_crime.isnull().sum()"
   ]
  },
  {
   "cell_type": "code",
   "execution_count": 4,
   "id": "00bc0934",
   "metadata": {},
   "outputs": [
    {
     "data": {
      "text/plain": [
       "(13490604, 7)"
      ]
     },
     "execution_count": 4,
     "metadata": {},
     "output_type": "execute_result"
    }
   ],
   "source": [
    "# checking shape\n",
    "df_crime.shape"
   ]
  },
  {
   "cell_type": "code",
   "execution_count": 5,
   "id": "2395295a",
   "metadata": {},
   "outputs": [
    {
     "name": "stdout",
     "output_type": "stream",
     "text": [
      "<class 'pandas.core.frame.DataFrame'>\n",
      "RangeIndex: 13490604 entries, 0 to 13490603\n",
      "Data columns (total 7 columns):\n",
      " #   Column          Dtype \n",
      "---  ------          ----- \n",
      " 0   lsoa_code       object\n",
      " 1   borough         object\n",
      " 2   major_category  object\n",
      " 3   minor_category  object\n",
      " 4   value           int64 \n",
      " 5   year            int64 \n",
      " 6   month           int64 \n",
      "dtypes: int64(3), object(4)\n",
      "memory usage: 720.5+ MB\n"
     ]
    }
   ],
   "source": [
    "# checking columns info\n",
    "df_crime.info()"
   ]
  },
  {
   "cell_type": "markdown",
   "id": "08aca789",
   "metadata": {},
   "source": [
    "## Describing Dataset"
   ]
  },
  {
   "cell_type": "code",
   "execution_count": 6,
   "id": "5292a9e9",
   "metadata": {},
   "outputs": [
    {
     "data": {
      "text/plain": [
       "2008    1498956\n",
       "2009    1498956\n",
       "2010    1498956\n",
       "2011    1498956\n",
       "2012    1498956\n",
       "2013    1498956\n",
       "2014    1498956\n",
       "2015    1498956\n",
       "2016    1498956\n",
       "Name: year, dtype: int64"
      ]
     },
     "execution_count": 6,
     "metadata": {},
     "output_type": "execute_result"
    }
   ],
   "source": [
    "# Get value counts per year\n",
    "df_crime['year'].value_counts()"
   ]
  },
  {
   "cell_type": "code",
   "execution_count": 7,
   "id": "603d8b42",
   "metadata": {},
   "outputs": [
    {
     "data": {
      "text/plain": [
       "Croydon                   602100\n",
       "Barnet                    572832\n",
       "Ealing                    549396\n",
       "Bromley                   523908\n",
       "Lambeth                   519048\n",
       "Enfield                   511164\n",
       "Wandsworth                498636\n",
       "Brent                     490644\n",
       "Lewisham                  485136\n",
       "Southwark                 483300\n",
       "Newham                    471420\n",
       "Redbridge                 445716\n",
       "Hillingdon                442584\n",
       "Greenwich                 421200\n",
       "Hackney                   417744\n",
       "Haringey                  413856\n",
       "Tower Hamlets             412128\n",
       "Waltham Forest            406296\n",
       "Havering                  399600\n",
       "Hounslow                  395928\n",
       "Bexley                    385668\n",
       "Camden                    378432\n",
       "Westminster               366660\n",
       "Harrow                    365688\n",
       "Islington                 359208\n",
       "Merton                    339876\n",
       "Hammersmith and Fulham    328752\n",
       "Sutton                    322488\n",
       "Barking and Dagenham      311040\n",
       "Richmond upon Thames      304128\n",
       "Kensington and Chelsea    296784\n",
       "Kingston upon Thames      259524\n",
       "City of London              9720\n",
       "Name: borough, dtype: int64"
      ]
     },
     "execution_count": 7,
     "metadata": {},
     "output_type": "execute_result"
    }
   ],
   "source": [
    "# Get value counts per year\n",
    "df_crime['borough'].value_counts()"
   ]
  },
  {
   "cell_type": "markdown",
   "id": "f588c34e",
   "metadata": {},
   "source": [
    "## Question 1\n",
    "Bagaimana statistik kejadian kriminal dari tahun 2008 ke 2016?"
   ]
  },
  {
   "cell_type": "code",
   "execution_count": 8,
   "id": "ea27d233",
   "metadata": {},
   "outputs": [
    {
     "data": {
      "text/html": [
       "<div>\n",
       "<style scoped>\n",
       "    .dataframe tbody tr th:only-of-type {\n",
       "        vertical-align: middle;\n",
       "    }\n",
       "\n",
       "    .dataframe tbody tr th {\n",
       "        vertical-align: top;\n",
       "    }\n",
       "\n",
       "    .dataframe thead th {\n",
       "        text-align: right;\n",
       "    }\n",
       "</style>\n",
       "<table border=\"1\" class=\"dataframe\">\n",
       "  <thead>\n",
       "    <tr style=\"text-align: right;\">\n",
       "      <th></th>\n",
       "      <th>value</th>\n",
       "    </tr>\n",
       "    <tr>\n",
       "      <th>year</th>\n",
       "      <th></th>\n",
       "    </tr>\n",
       "  </thead>\n",
       "  <tbody>\n",
       "    <tr>\n",
       "      <th>2008</th>\n",
       "      <td>738641</td>\n",
       "    </tr>\n",
       "    <tr>\n",
       "      <th>2009</th>\n",
       "      <td>717214</td>\n",
       "    </tr>\n",
       "    <tr>\n",
       "      <th>2010</th>\n",
       "      <td>715324</td>\n",
       "    </tr>\n",
       "    <tr>\n",
       "      <th>2011</th>\n",
       "      <td>724915</td>\n",
       "    </tr>\n",
       "    <tr>\n",
       "      <th>2012</th>\n",
       "      <td>737329</td>\n",
       "    </tr>\n",
       "    <tr>\n",
       "      <th>2013</th>\n",
       "      <td>686407</td>\n",
       "    </tr>\n",
       "    <tr>\n",
       "      <th>2014</th>\n",
       "      <td>680183</td>\n",
       "    </tr>\n",
       "    <tr>\n",
       "      <th>2015</th>\n",
       "      <td>711624</td>\n",
       "    </tr>\n",
       "    <tr>\n",
       "      <th>2016</th>\n",
       "      <td>736121</td>\n",
       "    </tr>\n",
       "  </tbody>\n",
       "</table>\n",
       "</div>"
      ],
      "text/plain": [
       "       value\n",
       "year        \n",
       "2008  738641\n",
       "2009  717214\n",
       "2010  715324\n",
       "2011  724915\n",
       "2012  737329\n",
       "2013  686407\n",
       "2014  680183\n",
       "2015  711624\n",
       "2016  736121"
      ]
     },
     "execution_count": 8,
     "metadata": {},
     "output_type": "execute_result"
    }
   ],
   "source": [
    "df_1 = df_crime.groupby('year', as_index=True).agg({\"value\":\"sum\"})\n",
    "df_1"
   ]
  },
  {
   "cell_type": "code",
   "execution_count": 9,
   "id": "15f4a6ad",
   "metadata": {},
   "outputs": [
    {
     "data": {
      "text/plain": [
       "Text(0.5, 0, 'Tahun')"
      ]
     },
     "execution_count": 9,
     "metadata": {},
     "output_type": "execute_result"
    },
    {
     "data": {
      "image/png": "[encoded data removed]",
      "text/plain": [
       "<Figure size 432x288 with 1 Axes>"
      ]
     },
     "metadata": {
      "needs_background": "light"
     },
     "output_type": "display_data"
    }
   ],
   "source": [
    "df_1.index = df_1.index.map(int)\n",
    "df_1.plot(kind='line', c='b')\n",
    "\n",
    "plt.title('Perkembangan Tingkat Kriminalitas di London 2008 - 2016')\n",
    "plt.ylabel('Jumlah Kejahatan')\n",
    "plt.xlabel('Tahun')"
   ]
  },
  {
   "cell_type": "markdown",
   "id": "83cdc1c6",
   "metadata": {},
   "source": [
    "## Question 2\n",
    "Top 3 kejadian kriminal selama 3 tahun terakhir?"
   ]
  },
  {
   "cell_type": "code",
   "execution_count": 10,
   "id": "afd0796b",
   "metadata": {},
   "outputs": [
    {
     "data": {
      "text/plain": [
       "<AxesSubplot:xlabel='year'>"
      ]
     },
     "execution_count": 10,
     "metadata": {},
     "output_type": "execute_result"
    },
    {
     "data": {
      "image/png": "[encoded data removed]",
      "text/plain": [
       "<Figure size 432x288 with 1 Axes>"
      ]
     },
     "metadata": {
      "needs_background": "light"
     },
     "output_type": "display_data"
    },
    {
     "data": {
      "image/png": "[encoded data removed]",
      "text/plain": [
       "<Figure size 432x288 with 1 Axes>"
      ]
     },
     "metadata": {
      "needs_background": "light"
     },
     "output_type": "display_data"
    }
   ],
   "source": [
    "df_2 = pd.pivot_table(df_crime, values='value', index=['major_category'],columns=['year'], aggfunc=np.sum)\n",
    "df_2\n",
    "df_2.plot(kind='line')\n",
    "\n",
    "df_top3 = df_2.transpose()\n",
    "df_top3.plot(kind='line')"
   ]
  },
  {
   "cell_type": "code",
   "execution_count": 11,
   "id": "33f7adf3",
   "metadata": {},
   "outputs": [
    {
     "data": {
      "text/html": [
       "<div>\n",
       "<style scoped>\n",
       "    .dataframe tbody tr th:only-of-type {\n",
       "        vertical-align: middle;\n",
       "    }\n",
       "\n",
       "    .dataframe tbody tr th {\n",
       "        vertical-align: top;\n",
       "    }\n",
       "\n",
       "    .dataframe thead th {\n",
       "        text-align: right;\n",
       "    }\n",
       "</style>\n",
       "<table border=\"1\" class=\"dataframe\">\n",
       "  <thead>\n",
       "    <tr style=\"text-align: right;\">\n",
       "      <th>year</th>\n",
       "      <th>2008</th>\n",
       "      <th>2009</th>\n",
       "      <th>2010</th>\n",
       "      <th>2011</th>\n",
       "      <th>2012</th>\n",
       "      <th>2013</th>\n",
       "      <th>2014</th>\n",
       "      <th>2015</th>\n",
       "      <th>2016</th>\n",
       "      <th>Total</th>\n",
       "    </tr>\n",
       "    <tr>\n",
       "      <th>major_category</th>\n",
       "      <th></th>\n",
       "      <th></th>\n",
       "      <th></th>\n",
       "      <th></th>\n",
       "      <th></th>\n",
       "      <th></th>\n",
       "      <th></th>\n",
       "      <th></th>\n",
       "      <th></th>\n",
       "      <th></th>\n",
       "    </tr>\n",
       "  </thead>\n",
       "  <tbody>\n",
       "    <tr>\n",
       "      <th>Burglary</th>\n",
       "      <td>88092</td>\n",
       "      <td>90619</td>\n",
       "      <td>86826</td>\n",
       "      <td>93315</td>\n",
       "      <td>93392</td>\n",
       "      <td>87222</td>\n",
       "      <td>76053</td>\n",
       "      <td>70489</td>\n",
       "      <td>68285</td>\n",
       "      <td>754293</td>\n",
       "    </tr>\n",
       "    <tr>\n",
       "      <th>Criminal Damage</th>\n",
       "      <td>91872</td>\n",
       "      <td>85565</td>\n",
       "      <td>77897</td>\n",
       "      <td>70914</td>\n",
       "      <td>62158</td>\n",
       "      <td>56206</td>\n",
       "      <td>59279</td>\n",
       "      <td>62976</td>\n",
       "      <td>64071</td>\n",
       "      <td>630938</td>\n",
       "    </tr>\n",
       "    <tr>\n",
       "      <th>Drugs</th>\n",
       "      <td>68804</td>\n",
       "      <td>60549</td>\n",
       "      <td>58674</td>\n",
       "      <td>57550</td>\n",
       "      <td>51776</td>\n",
       "      <td>50278</td>\n",
       "      <td>44435</td>\n",
       "      <td>39785</td>\n",
       "      <td>38914</td>\n",
       "      <td>470765</td>\n",
       "    </tr>\n",
       "    <tr>\n",
       "      <th>Fraud or Forgery</th>\n",
       "      <td>5325</td>\n",
       "      <td>0</td>\n",
       "      <td>0</td>\n",
       "      <td>0</td>\n",
       "      <td>0</td>\n",
       "      <td>0</td>\n",
       "      <td>0</td>\n",
       "      <td>0</td>\n",
       "      <td>0</td>\n",
       "      <td>5325</td>\n",
       "    </tr>\n",
       "    <tr>\n",
       "      <th>Other Notifiable Offences</th>\n",
       "      <td>10112</td>\n",
       "      <td>10644</td>\n",
       "      <td>10768</td>\n",
       "      <td>10264</td>\n",
       "      <td>10675</td>\n",
       "      <td>10811</td>\n",
       "      <td>13037</td>\n",
       "      <td>14229</td>\n",
       "      <td>15809</td>\n",
       "      <td>106349</td>\n",
       "    </tr>\n",
       "    <tr>\n",
       "      <th>Robbery</th>\n",
       "      <td>29627</td>\n",
       "      <td>29568</td>\n",
       "      <td>32341</td>\n",
       "      <td>36679</td>\n",
       "      <td>35260</td>\n",
       "      <td>29337</td>\n",
       "      <td>22150</td>\n",
       "      <td>21383</td>\n",
       "      <td>22528</td>\n",
       "      <td>258873</td>\n",
       "    </tr>\n",
       "    <tr>\n",
       "      <th>Sexual Offences</th>\n",
       "      <td>1273</td>\n",
       "      <td>0</td>\n",
       "      <td>0</td>\n",
       "      <td>0</td>\n",
       "      <td>0</td>\n",
       "      <td>0</td>\n",
       "      <td>0</td>\n",
       "      <td>0</td>\n",
       "      <td>0</td>\n",
       "      <td>1273</td>\n",
       "    </tr>\n",
       "    <tr>\n",
       "      <th>Theft and Handling</th>\n",
       "      <td>283692</td>\n",
       "      <td>279492</td>\n",
       "      <td>290924</td>\n",
       "      <td>309292</td>\n",
       "      <td>334054</td>\n",
       "      <td>306372</td>\n",
       "      <td>279880</td>\n",
       "      <td>284022</td>\n",
       "      <td>294133</td>\n",
       "      <td>2661861</td>\n",
       "    </tr>\n",
       "    <tr>\n",
       "      <th>Violence Against the Person</th>\n",
       "      <td>159844</td>\n",
       "      <td>160777</td>\n",
       "      <td>157894</td>\n",
       "      <td>146901</td>\n",
       "      <td>150014</td>\n",
       "      <td>146181</td>\n",
       "      <td>185349</td>\n",
       "      <td>218740</td>\n",
       "      <td>232381</td>\n",
       "      <td>1558081</td>\n",
       "    </tr>\n",
       "  </tbody>\n",
       "</table>\n",
       "</div>"
      ],
      "text/plain": [
       "year                           2008    2009    2010    2011    2012    2013  \\\n",
       "major_category                                                                \n",
       "Burglary                      88092   90619   86826   93315   93392   87222   \n",
       "Criminal Damage               91872   85565   77897   70914   62158   56206   \n",
       "Drugs                         68804   60549   58674   57550   51776   50278   \n",
       "Fraud or Forgery               5325       0       0       0       0       0   \n",
       "Other Notifiable Offences     10112   10644   10768   10264   10675   10811   \n",
       "Robbery                       29627   29568   32341   36679   35260   29337   \n",
       "Sexual Offences                1273       0       0       0       0       0   \n",
       "Theft and Handling           283692  279492  290924  309292  334054  306372   \n",
       "Violence Against the Person  159844  160777  157894  146901  150014  146181   \n",
       "\n",
       "year                           2014    2015    2016    Total  \n",
       "major_category                                                \n",
       "Burglary                      76053   70489   68285   754293  \n",
       "Criminal Damage               59279   62976   64071   630938  \n",
       "Drugs                         44435   39785   38914   470765  \n",
       "Fraud or Forgery                  0       0       0     5325  \n",
       "Other Notifiable Offences     13037   14229   15809   106349  \n",
       "Robbery                       22150   21383   22528   258873  \n",
       "Sexual Offences                   0       0       0     1273  \n",
       "Theft and Handling           279880  284022  294133  2661861  \n",
       "Violence Against the Person  185349  218740  232381  1558081  "
      ]
     },
     "execution_count": 11,
     "metadata": {},
     "output_type": "execute_result"
    }
   ],
   "source": [
    "df_2['Total'] = df_2.sum(axis=1) #add total\n",
    "df_2"
   ]
  },
  {
   "cell_type": "code",
   "execution_count": 12,
   "id": "e34aa62c",
   "metadata": {},
   "outputs": [
    {
     "data": {
      "text/plain": [
       "borough\n",
       "Barking and Dagenham      17656\n",
       "Barnet                    23944\n",
       "Bexley                    15305\n",
       "Brent                     23504\n",
       "Bromley                   24015\n",
       "Camden                    32010\n",
       "City of London                0\n",
       "Croydon                   29516\n",
       "Ealing                    28947\n",
       "Enfield                   21980\n",
       "Greenwich                 22010\n",
       "Hackney                   22004\n",
       "Hammersmith and Fulham    21114\n",
       "Haringey                  25724\n",
       "Harrow                    13774\n",
       "Havering                  15395\n",
       "Hillingdon                24318\n",
       "Hounslow                  20204\n",
       "Islington                 26273\n",
       "Kensington and Chelsea    20663\n",
       "Kingston upon Thames      10661\n",
       "Lambeth                   31717\n",
       "Lewisham                  27054\n",
       "Merton                    13875\n",
       "Newham                    29752\n",
       "Redbridge                 20873\n",
       "Richmond upon Thames      11106\n",
       "Southwark                 33470\n",
       "Sutton                    12943\n",
       "Tower Hamlets             23578\n",
       "Waltham Forest            24080\n",
       "Wandsworth                23330\n",
       "Westminster               47846\n",
       "Name: value, dtype: int64"
      ]
     },
     "execution_count": 12,
     "metadata": {},
     "output_type": "execute_result"
    }
   ],
   "source": [
    "df_crime[df_crime['year'] == 2008].groupby('borough')['value'].sum()"
   ]
  },
  {
   "cell_type": "code",
   "execution_count": 13,
   "id": "844d2588",
   "metadata": {},
   "outputs": [
    {
     "data": {
      "text/plain": [
       "<AxesSubplot:xlabel='borough'>"
      ]
     },
     "execution_count": 13,
     "metadata": {},
     "output_type": "execute_result"
    },
    {
     "data": {
      "image/png": "[encoded data removed]",
      "text/plain": [
       "<Figure size 432x288 with 1 Axes>"
      ]
     },
     "metadata": {
      "needs_background": "light"
     },
     "output_type": "display_data"
    }
   ],
   "source": [
    "df_crime[df_crime['year'] == 2008].groupby('borough')['value'].sum().plot()"
   ]
  },
  {
   "cell_type": "code",
   "execution_count": null,
   "id": "4a6a5bf3",
   "metadata": {},
   "outputs": [],
   "source": []
  }
 ],
 "metadata": {
  "kernelspec": {
   "display_name": "Python 3",
   "language": "python",
   "name": "python3"
  },
  "language_info": {
   "codemirror_mode": {
    "name": "ipython",
    "version": 3
   },
   "file_extension": ".py",
   "mimetype": "text/x-python",
   "name": "python",
   "nbconvert_exporter": "python",
   "pygments_lexer": "ipython3",
   "version": "3.8.8"
  }
 },
 "nbformat": 4,
 "nbformat_minor": 5
}
